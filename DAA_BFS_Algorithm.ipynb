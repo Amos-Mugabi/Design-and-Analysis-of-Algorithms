{
  "nbformat": 4,
  "nbformat_minor": 0,
  "metadata": {
    "colab": {
      "provenance": []
    },
    "kernelspec": {
      "name": "python3",
      "display_name": "Python 3"
    },
    "language_info": {
      "name": "python"
    }
  },
  "cells": [
    {
      "cell_type": "markdown",
      "source": [
        " Exercise:\n",
        " Imagine you are implementing a social network,\n",
        " use Python to implement a breadth-first search (BFS) algorithm\n",
        " to find mutual friends between two users in the social network represented as a graph.\n",
        "What is your conclusion on the space/time complexity of your method.\n"
      ],
      "metadata": {
        "id": "yBvp988DkWCB"
      }
    },
    {
      "cell_type": "code",
      "source": [
        "from collections import deque\n",
        "\n",
        "def bfs(graph, start):\n",
        "    visited = set()\n",
        "    queue = deque([start])\n",
        "    visited.add(start)\n",
        "\n",
        "    while queue:\n",
        "        node = queue.popleft()\n",
        "        for neighbor in graph[node]:\n",
        "            if neighbor not in visited:\n",
        "                queue.append(neighbor)\n",
        "                visited.add(neighbor)\n",
        "\n",
        "    return visited\n",
        "\n",
        "def mutual_friends(graph, user1, user2):\n",
        "    friends_user1 = bfs(graph, user1)\n",
        "    friends_user2 = bfs(graph, user2)\n",
        "\n",
        "    mutual_friends = friends_user1.intersection(friends_user2)\n",
        "    return mutual_friends\n",
        "\n",
        
        "graph = {\n",
        "    'Alice': ['Bob', 'Charlie'],\n",
        "    'Bob': ['Alice', 'Dave'],\n",
        "    'Charlie': ['Alice', 'Eve'],\n",
        "    'Dave': ['Bob'],\n",
        "    'Eve': ['Charlie']\n",
        "}\n",
        "\n",
        "user1 = 'Alice'\n",
        "user2 = 'Bob'\n",
        "\n",
        "result = mutual_friends(graph, user1, user2)\n",
        "print(f\"Mutual friends between {user1} and {user2}: {result}\")\n",
        "\n"
      ],
      "metadata": {
        "colab": {
          "base_uri": "https://localhost:8080/"
        },
        "id": "4whZ5JOukYFi",
        "outputId": "965e67ec-12ce-41f3-a807-97fc026a5467"
      },
      "execution_count": null,
      "outputs": [
        {
          "output_type": "stream",
          "name": "stdout",
          "text": [
            "Mutual friends between Alice and Bob: {'Bob', 'Alice', 'Charlie', 'Dave', 'Eve'}\n"
          ]
        }
      ]
    },
    {
      "cell_type": "markdown",
      "source": [
        " Time Complexity:\n",
        "\n",
        " The time complexity is O(V + E),\n",
        " where V is the number of vertices and E is the number of edges in the graph.\n",
        " This is because each vertex and each edge is visited once.\n",
        " In the worst case, BFS visits all vertices and edges in the graph\n",
        "\n",
        "\n",
        " Space Complexity:\n",
        "\n",
        " In the worst case, the space complexity is O(V), where V is the number of vertices (users) in the graph.\n",
        " This is because the BFS algorithm uses a queue to store the nodes to be visited, and in the worst case,\n",
        " all nodes might be added to the queue.\n"
      ],
      "metadata": {
        "id": "x1GEiIBAkc2j"
      }
    },
    {
      "cell_type": "markdown",
      "source": [
        "Pseudocode BFS(graph, start):\n",
        "\n",
        "    create an empty queue\n",
        "    enqueue start into the queue\n",
        "    create an empty set or array called visited\n",
        "    add start to visited\n",
        "\n",
        "    while the queue is not empty:\n",
        "        current_node = dequeue from the queue\n",
        "        process current_node (e.g., print or perform an operation)\n",
        "\n",
        "        for each neighbor in graph[current_node]:\n",
        "            if neighbor is not in visited:\n",
        "                enqueue neighbor into the queue\n",
        "                add neighbor to visited\n"
      ],
      "metadata": {
        "id": "HT1t3_dBle4n"
      }
    }
  ]
}
